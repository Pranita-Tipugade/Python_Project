{
 "cells": [
  {
   "cell_type": "code",
   "execution_count": 2,
   "id": "cc9f5641",
   "metadata": {},
   "outputs": [],
   "source": [
    "# Import libraies:\n",
    "import numpy as np\n",
    "import pandas as pd\n",
    "import matplotlib.pyplot as plt\n",
    "import seaborn as sns"
   ]
  },
  {
   "cell_type": "code",
   "execution_count": 3,
   "id": "d677939b",
   "metadata": {},
   "outputs": [],
   "source": [
    "# import csv file and create a data frame (df):\n",
    "# Import a 311 NYC service request.\n",
    "df=pd.read_csv('311_Service_Requests_from_2010_to_Present.csv',low_memory=False)"
   ]
  },
  {
   "cell_type": "code",
   "execution_count": 4,
   "id": "e8ecfce4",
   "metadata": {},
   "outputs": [
    {
     "data": {
      "text/plain": [
       "(300698, 53)"
      ]
     },
     "execution_count": 4,
     "metadata": {},
     "output_type": "execute_result"
    }
   ],
   "source": [
    "# shape of the dataframe:\n",
    "df.shape"
   ]
  },
  {
   "cell_type": "code",
   "execution_count": 5,
   "id": "dc0a5999",
   "metadata": {},
   "outputs": [
    {
     "data": {
      "text/plain": [
       "15936994"
      ]
     },
     "execution_count": 5,
     "metadata": {},
     "output_type": "execute_result"
    }
   ],
   "source": [
    "# size of df:\n",
    "df.size"
   ]
  },
  {
   "cell_type": "code",
   "execution_count": 6,
   "id": "7d9fcf53",
   "metadata": {},
   "outputs": [
    {
     "name": "stdout",
     "output_type": "stream",
     "text": [
      "<class 'pandas.core.frame.DataFrame'>\n",
      "RangeIndex: 300698 entries, 0 to 300697\n",
      "Data columns (total 53 columns):\n",
      " #   Column                          Non-Null Count   Dtype  \n",
      "---  ------                          --------------   -----  \n",
      " 0   Unique Key                      300698 non-null  int64  \n",
      " 1   Created Date                    300698 non-null  object \n",
      " 2   Closed Date                     298534 non-null  object \n",
      " 3   Agency                          300698 non-null  object \n",
      " 4   Agency Name                     300698 non-null  object \n",
      " 5   Complaint Type                  300698 non-null  object \n",
      " 6   Descriptor                      294784 non-null  object \n",
      " 7   Location Type                   300567 non-null  object \n",
      " 8   Incident Zip                    298083 non-null  float64\n",
      " 9   Incident Address                256288 non-null  object \n",
      " 10  Street Name                     256288 non-null  object \n",
      " 11  Cross Street 1                  251419 non-null  object \n",
      " 12  Cross Street 2                  250919 non-null  object \n",
      " 13  Intersection Street 1           43858 non-null   object \n",
      " 14  Intersection Street 2           43362 non-null   object \n",
      " 15  Address Type                    297883 non-null  object \n",
      " 16  City                            298084 non-null  object \n",
      " 17  Landmark                        349 non-null     object \n",
      " 18  Facility Type                   298527 non-null  object \n",
      " 19  Status                          300698 non-null  object \n",
      " 20  Due Date                        300695 non-null  object \n",
      " 21  Resolution Description          300698 non-null  object \n",
      " 22  Resolution Action Updated Date  298511 non-null  object \n",
      " 23  Community Board                 300698 non-null  object \n",
      " 24  Borough                         300698 non-null  object \n",
      " 25  X Coordinate (State Plane)      297158 non-null  float64\n",
      " 26  Y Coordinate (State Plane)      297158 non-null  float64\n",
      " 27  Park Facility Name              300698 non-null  object \n",
      " 28  Park Borough                    300698 non-null  object \n",
      " 29  School Name                     300698 non-null  object \n",
      " 30  School Number                   300698 non-null  object \n",
      " 31  School Region                   300697 non-null  object \n",
      " 32  School Code                     300697 non-null  object \n",
      " 33  School Phone Number             300698 non-null  object \n",
      " 34  School Address                  300698 non-null  object \n",
      " 35  School City                     300698 non-null  object \n",
      " 36  School State                    300698 non-null  object \n",
      " 37  School Zip                      300697 non-null  object \n",
      " 38  School Not Found                300698 non-null  object \n",
      " 39  School or Citywide Complaint    0 non-null       float64\n",
      " 40  Vehicle Type                    0 non-null       float64\n",
      " 41  Taxi Company Borough            0 non-null       float64\n",
      " 42  Taxi Pick Up Location           0 non-null       float64\n",
      " 43  Bridge Highway Name             243 non-null     object \n",
      " 44  Bridge Highway Direction        243 non-null     object \n",
      " 45  Road Ramp                       213 non-null     object \n",
      " 46  Bridge Highway Segment          213 non-null     object \n",
      " 47  Garage Lot Name                 0 non-null       float64\n",
      " 48  Ferry Direction                 1 non-null       object \n",
      " 49  Ferry Terminal Name             2 non-null       object \n",
      " 50  Latitude                        297158 non-null  float64\n",
      " 51  Longitude                       297158 non-null  float64\n",
      " 52  Location                        297158 non-null  object \n",
      "dtypes: float64(10), int64(1), object(42)\n",
      "memory usage: 121.6+ MB\n"
     ]
    }
   ],
   "source": [
    "# Get information about the dataframe:\n",
    "df.info()"
   ]
  },
  {
   "cell_type": "code",
   "execution_count": 7,
   "id": "394c310e",
   "metadata": {},
   "outputs": [
    {
     "data": {
      "text/plain": [
       "Unique Key                             0\n",
       "Created Date                           0\n",
       "Closed Date                         2164\n",
       "Agency                                 0\n",
       "Agency Name                            0\n",
       "Complaint Type                         0\n",
       "Descriptor                          5914\n",
       "Location Type                        131\n",
       "Incident Zip                        2615\n",
       "Incident Address                   44410\n",
       "Street Name                        44410\n",
       "Cross Street 1                     49279\n",
       "Cross Street 2                     49779\n",
       "Intersection Street 1             256840\n",
       "Intersection Street 2             257336\n",
       "Address Type                        2815\n",
       "City                                2614\n",
       "Landmark                          300349\n",
       "Facility Type                       2171\n",
       "Status                                 0\n",
       "Due Date                               3\n",
       "Resolution Description                 0\n",
       "Resolution Action Updated Date      2187\n",
       "Community Board                        0\n",
       "Borough                                0\n",
       "X Coordinate (State Plane)          3540\n",
       "Y Coordinate (State Plane)          3540\n",
       "Park Facility Name                     0\n",
       "Park Borough                           0\n",
       "School Name                            0\n",
       "School Number                          0\n",
       "School Region                          1\n",
       "School Code                            1\n",
       "School Phone Number                    0\n",
       "School Address                         0\n",
       "School City                            0\n",
       "School State                           0\n",
       "School Zip                             1\n",
       "School Not Found                       0\n",
       "School or Citywide Complaint      300698\n",
       "Vehicle Type                      300698\n",
       "Taxi Company Borough              300698\n",
       "Taxi Pick Up Location             300698\n",
       "Bridge Highway Name               300455\n",
       "Bridge Highway Direction          300455\n",
       "Road Ramp                         300485\n",
       "Bridge Highway Segment            300485\n",
       "Garage Lot Name                   300698\n",
       "Ferry Direction                   300697\n",
       "Ferry Terminal Name               300696\n",
       "Latitude                            3540\n",
       "Longitude                           3540\n",
       "Location                            3540\n",
       "dtype: int64"
      ]
     },
     "execution_count": 7,
     "metadata": {},
     "output_type": "execute_result"
    }
   ],
   "source": [
    "# Check null values:\n",
    "df.isnull().sum()"
   ]
  },
  {
   "cell_type": "code",
   "execution_count": 8,
   "id": "f82b962c",
   "metadata": {},
   "outputs": [
    {
     "data": {
      "text/html": [
       "<div>\n",
       "<style scoped>\n",
       "    .dataframe tbody tr th:only-of-type {\n",
       "        vertical-align: middle;\n",
       "    }\n",
       "\n",
       "    .dataframe tbody tr th {\n",
       "        vertical-align: top;\n",
       "    }\n",
       "\n",
       "    .dataframe thead th {\n",
       "        text-align: right;\n",
       "    }\n",
       "</style>\n",
       "<table border=\"1\" class=\"dataframe\">\n",
       "  <thead>\n",
       "    <tr style=\"text-align: right;\">\n",
       "      <th></th>\n",
       "      <th>Unique Key</th>\n",
       "      <th>Created Date</th>\n",
       "      <th>Closed Date</th>\n",
       "      <th>Agency</th>\n",
       "      <th>Agency Name</th>\n",
       "      <th>Complaint Type</th>\n",
       "      <th>Descriptor</th>\n",
       "      <th>Location Type</th>\n",
       "      <th>Incident Zip</th>\n",
       "      <th>Incident Address</th>\n",
       "      <th>...</th>\n",
       "      <th>Bridge Highway Name</th>\n",
       "      <th>Bridge Highway Direction</th>\n",
       "      <th>Road Ramp</th>\n",
       "      <th>Bridge Highway Segment</th>\n",
       "      <th>Garage Lot Name</th>\n",
       "      <th>Ferry Direction</th>\n",
       "      <th>Ferry Terminal Name</th>\n",
       "      <th>Latitude</th>\n",
       "      <th>Longitude</th>\n",
       "      <th>Location</th>\n",
       "    </tr>\n",
       "  </thead>\n",
       "  <tbody>\n",
       "    <tr>\n",
       "      <th>0</th>\n",
       "      <td>32310363</td>\n",
       "      <td>12/31/2015 11:59:45 PM</td>\n",
       "      <td>01-01-16 0:55</td>\n",
       "      <td>NYPD</td>\n",
       "      <td>New York City Police Department</td>\n",
       "      <td>Noise - Street/Sidewalk</td>\n",
       "      <td>Loud Music/Party</td>\n",
       "      <td>Street/Sidewalk</td>\n",
       "      <td>10034.0</td>\n",
       "      <td>71 VERMILYEA AVENUE</td>\n",
       "      <td>...</td>\n",
       "      <td>NaN</td>\n",
       "      <td>NaN</td>\n",
       "      <td>NaN</td>\n",
       "      <td>NaN</td>\n",
       "      <td>NaN</td>\n",
       "      <td>NaN</td>\n",
       "      <td>NaN</td>\n",
       "      <td>40.865682</td>\n",
       "      <td>-73.923501</td>\n",
       "      <td>(40.86568153633767, -73.92350095571744)</td>\n",
       "    </tr>\n",
       "    <tr>\n",
       "      <th>1</th>\n",
       "      <td>32309934</td>\n",
       "      <td>12/31/2015 11:59:44 PM</td>\n",
       "      <td>01-01-16 1:26</td>\n",
       "      <td>NYPD</td>\n",
       "      <td>New York City Police Department</td>\n",
       "      <td>Blocked Driveway</td>\n",
       "      <td>No Access</td>\n",
       "      <td>Street/Sidewalk</td>\n",
       "      <td>11105.0</td>\n",
       "      <td>27-07 23 AVENUE</td>\n",
       "      <td>...</td>\n",
       "      <td>NaN</td>\n",
       "      <td>NaN</td>\n",
       "      <td>NaN</td>\n",
       "      <td>NaN</td>\n",
       "      <td>NaN</td>\n",
       "      <td>NaN</td>\n",
       "      <td>NaN</td>\n",
       "      <td>40.775945</td>\n",
       "      <td>-73.915094</td>\n",
       "      <td>(40.775945312321085, -73.91509393898605)</td>\n",
       "    </tr>\n",
       "    <tr>\n",
       "      <th>2</th>\n",
       "      <td>32309159</td>\n",
       "      <td>12/31/2015 11:59:29 PM</td>\n",
       "      <td>01-01-16 4:51</td>\n",
       "      <td>NYPD</td>\n",
       "      <td>New York City Police Department</td>\n",
       "      <td>Blocked Driveway</td>\n",
       "      <td>No Access</td>\n",
       "      <td>Street/Sidewalk</td>\n",
       "      <td>10458.0</td>\n",
       "      <td>2897 VALENTINE AVENUE</td>\n",
       "      <td>...</td>\n",
       "      <td>NaN</td>\n",
       "      <td>NaN</td>\n",
       "      <td>NaN</td>\n",
       "      <td>NaN</td>\n",
       "      <td>NaN</td>\n",
       "      <td>NaN</td>\n",
       "      <td>NaN</td>\n",
       "      <td>40.870325</td>\n",
       "      <td>-73.888525</td>\n",
       "      <td>(40.870324522111424, -73.88852464418646)</td>\n",
       "    </tr>\n",
       "    <tr>\n",
       "      <th>3</th>\n",
       "      <td>32305098</td>\n",
       "      <td>12/31/2015 11:57:46 PM</td>\n",
       "      <td>01-01-16 7:43</td>\n",
       "      <td>NYPD</td>\n",
       "      <td>New York City Police Department</td>\n",
       "      <td>Illegal Parking</td>\n",
       "      <td>Commercial Overnight Parking</td>\n",
       "      <td>Street/Sidewalk</td>\n",
       "      <td>10461.0</td>\n",
       "      <td>2940 BAISLEY AVENUE</td>\n",
       "      <td>...</td>\n",
       "      <td>NaN</td>\n",
       "      <td>NaN</td>\n",
       "      <td>NaN</td>\n",
       "      <td>NaN</td>\n",
       "      <td>NaN</td>\n",
       "      <td>NaN</td>\n",
       "      <td>NaN</td>\n",
       "      <td>40.835994</td>\n",
       "      <td>-73.828379</td>\n",
       "      <td>(40.83599404683083, -73.82837939584206)</td>\n",
       "    </tr>\n",
       "    <tr>\n",
       "      <th>4</th>\n",
       "      <td>32306529</td>\n",
       "      <td>12/31/2015 11:56:58 PM</td>\n",
       "      <td>01-01-16 3:24</td>\n",
       "      <td>NYPD</td>\n",
       "      <td>New York City Police Department</td>\n",
       "      <td>Illegal Parking</td>\n",
       "      <td>Blocked Sidewalk</td>\n",
       "      <td>Street/Sidewalk</td>\n",
       "      <td>11373.0</td>\n",
       "      <td>87-14 57 ROAD</td>\n",
       "      <td>...</td>\n",
       "      <td>NaN</td>\n",
       "      <td>NaN</td>\n",
       "      <td>NaN</td>\n",
       "      <td>NaN</td>\n",
       "      <td>NaN</td>\n",
       "      <td>NaN</td>\n",
       "      <td>NaN</td>\n",
       "      <td>40.733060</td>\n",
       "      <td>-73.874170</td>\n",
       "      <td>(40.733059618956815, -73.87416975810375)</td>\n",
       "    </tr>\n",
       "  </tbody>\n",
       "</table>\n",
       "<p>5 rows × 53 columns</p>\n",
       "</div>"
      ],
      "text/plain": [
       "   Unique Key            Created Date    Closed Date Agency  \\\n",
       "0    32310363  12/31/2015 11:59:45 PM  01-01-16 0:55   NYPD   \n",
       "1    32309934  12/31/2015 11:59:44 PM  01-01-16 1:26   NYPD   \n",
       "2    32309159  12/31/2015 11:59:29 PM  01-01-16 4:51   NYPD   \n",
       "3    32305098  12/31/2015 11:57:46 PM  01-01-16 7:43   NYPD   \n",
       "4    32306529  12/31/2015 11:56:58 PM  01-01-16 3:24   NYPD   \n",
       "\n",
       "                       Agency Name           Complaint Type  \\\n",
       "0  New York City Police Department  Noise - Street/Sidewalk   \n",
       "1  New York City Police Department         Blocked Driveway   \n",
       "2  New York City Police Department         Blocked Driveway   \n",
       "3  New York City Police Department          Illegal Parking   \n",
       "4  New York City Police Department          Illegal Parking   \n",
       "\n",
       "                     Descriptor    Location Type  Incident Zip  \\\n",
       "0              Loud Music/Party  Street/Sidewalk       10034.0   \n",
       "1                     No Access  Street/Sidewalk       11105.0   \n",
       "2                     No Access  Street/Sidewalk       10458.0   \n",
       "3  Commercial Overnight Parking  Street/Sidewalk       10461.0   \n",
       "4              Blocked Sidewalk  Street/Sidewalk       11373.0   \n",
       "\n",
       "        Incident Address  ... Bridge Highway Name Bridge Highway Direction  \\\n",
       "0    71 VERMILYEA AVENUE  ...                 NaN                      NaN   \n",
       "1        27-07 23 AVENUE  ...                 NaN                      NaN   \n",
       "2  2897 VALENTINE AVENUE  ...                 NaN                      NaN   \n",
       "3    2940 BAISLEY AVENUE  ...                 NaN                      NaN   \n",
       "4          87-14 57 ROAD  ...                 NaN                      NaN   \n",
       "\n",
       "  Road Ramp Bridge Highway Segment Garage Lot Name Ferry Direction  \\\n",
       "0       NaN                    NaN             NaN             NaN   \n",
       "1       NaN                    NaN             NaN             NaN   \n",
       "2       NaN                    NaN             NaN             NaN   \n",
       "3       NaN                    NaN             NaN             NaN   \n",
       "4       NaN                    NaN             NaN             NaN   \n",
       "\n",
       "  Ferry Terminal Name   Latitude  Longitude  \\\n",
       "0                 NaN  40.865682 -73.923501   \n",
       "1                 NaN  40.775945 -73.915094   \n",
       "2                 NaN  40.870325 -73.888525   \n",
       "3                 NaN  40.835994 -73.828379   \n",
       "4                 NaN  40.733060 -73.874170   \n",
       "\n",
       "                                   Location  \n",
       "0   (40.86568153633767, -73.92350095571744)  \n",
       "1  (40.775945312321085, -73.91509393898605)  \n",
       "2  (40.870324522111424, -73.88852464418646)  \n",
       "3   (40.83599404683083, -73.82837939584206)  \n",
       "4  (40.733059618956815, -73.87416975810375)  \n",
       "\n",
       "[5 rows x 53 columns]"
      ]
     },
     "execution_count": 8,
     "metadata": {},
     "output_type": "execute_result"
    }
   ],
   "source": [
    "# First five rows of the dataframe:\n",
    "df.head()"
   ]
  },
  {
   "cell_type": "code",
   "execution_count": 9,
   "id": "d16d667f",
   "metadata": {},
   "outputs": [
    {
     "name": "stdout",
     "output_type": "stream",
     "text": [
      "object\n",
      "object\n"
     ]
    }
   ],
   "source": [
    "# Data type of created date & closed date:\n",
    "print(df['Created Date'].dtype)\n",
    "print(df['Closed Date'].dtype)"
   ]
  },
  {
   "cell_type": "code",
   "execution_count": 10,
   "id": "74faf5bc",
   "metadata": {},
   "outputs": [],
   "source": [
    "# Let's convert this object data type to Datetime data type:\n",
    "date_columns=['Created Date','Closed Date']\n",
    "df=pd.read_csv('311_Service_Requests_from_2010_to_Present.csv',low_memory=False, parse_dates=date_columns,infer_datetime_format=True)"
   ]
  },
  {
   "cell_type": "code",
   "execution_count": 11,
   "id": "3552d4cc",
   "metadata": {},
   "outputs": [
    {
     "name": "stdout",
     "output_type": "stream",
     "text": [
      "datetime64[ns]\n",
      "datetime64[ns]\n"
     ]
    }
   ],
   "source": [
    "# data type is changed to date time format\n",
    "print(df['Created Date'].dtype)\n",
    "print(df['Closed Date'].dtype)"
   ]
  },
  {
   "cell_type": "code",
   "execution_count": 12,
   "id": "ad04518c",
   "metadata": {},
   "outputs": [],
   "source": [
    "# Create a new column 'Request_Closing_Time':\n",
    "df['Request_Closing_Time']=df['Created Date'] - df['Closed Date']"
   ]
  },
  {
   "cell_type": "code",
   "execution_count": 13,
   "id": "102993ac",
   "metadata": {},
   "outputs": [
    {
     "data": {
      "text/html": [
       "<div>\n",
       "<style scoped>\n",
       "    .dataframe tbody tr th:only-of-type {\n",
       "        vertical-align: middle;\n",
       "    }\n",
       "\n",
       "    .dataframe tbody tr th {\n",
       "        vertical-align: top;\n",
       "    }\n",
       "\n",
       "    .dataframe thead th {\n",
       "        text-align: right;\n",
       "    }\n",
       "</style>\n",
       "<table border=\"1\" class=\"dataframe\">\n",
       "  <thead>\n",
       "    <tr style=\"text-align: right;\">\n",
       "      <th></th>\n",
       "      <th>Unique Key</th>\n",
       "      <th>Created Date</th>\n",
       "      <th>Closed Date</th>\n",
       "      <th>Agency</th>\n",
       "      <th>Agency Name</th>\n",
       "      <th>Complaint Type</th>\n",
       "      <th>Descriptor</th>\n",
       "      <th>Location Type</th>\n",
       "      <th>Incident Zip</th>\n",
       "      <th>Incident Address</th>\n",
       "      <th>...</th>\n",
       "      <th>Bridge Highway Direction</th>\n",
       "      <th>Road Ramp</th>\n",
       "      <th>Bridge Highway Segment</th>\n",
       "      <th>Garage Lot Name</th>\n",
       "      <th>Ferry Direction</th>\n",
       "      <th>Ferry Terminal Name</th>\n",
       "      <th>Latitude</th>\n",
       "      <th>Longitude</th>\n",
       "      <th>Location</th>\n",
       "      <th>Request_Closing_Time</th>\n",
       "    </tr>\n",
       "  </thead>\n",
       "  <tbody>\n",
       "    <tr>\n",
       "      <th>0</th>\n",
       "      <td>32310363</td>\n",
       "      <td>2015-12-31 23:59:45</td>\n",
       "      <td>2016-01-01 00:55:00</td>\n",
       "      <td>NYPD</td>\n",
       "      <td>New York City Police Department</td>\n",
       "      <td>Noise - Street/Sidewalk</td>\n",
       "      <td>Loud Music/Party</td>\n",
       "      <td>Street/Sidewalk</td>\n",
       "      <td>10034.0</td>\n",
       "      <td>71 VERMILYEA AVENUE</td>\n",
       "      <td>...</td>\n",
       "      <td>NaN</td>\n",
       "      <td>NaN</td>\n",
       "      <td>NaN</td>\n",
       "      <td>NaN</td>\n",
       "      <td>NaN</td>\n",
       "      <td>NaN</td>\n",
       "      <td>40.865682</td>\n",
       "      <td>-73.923501</td>\n",
       "      <td>(40.86568153633767, -73.92350095571744)</td>\n",
       "      <td>-1 days +23:04:45</td>\n",
       "    </tr>\n",
       "    <tr>\n",
       "      <th>1</th>\n",
       "      <td>32309934</td>\n",
       "      <td>2015-12-31 23:59:44</td>\n",
       "      <td>2016-01-01 01:26:00</td>\n",
       "      <td>NYPD</td>\n",
       "      <td>New York City Police Department</td>\n",
       "      <td>Blocked Driveway</td>\n",
       "      <td>No Access</td>\n",
       "      <td>Street/Sidewalk</td>\n",
       "      <td>11105.0</td>\n",
       "      <td>27-07 23 AVENUE</td>\n",
       "      <td>...</td>\n",
       "      <td>NaN</td>\n",
       "      <td>NaN</td>\n",
       "      <td>NaN</td>\n",
       "      <td>NaN</td>\n",
       "      <td>NaN</td>\n",
       "      <td>NaN</td>\n",
       "      <td>40.775945</td>\n",
       "      <td>-73.915094</td>\n",
       "      <td>(40.775945312321085, -73.91509393898605)</td>\n",
       "      <td>-1 days +22:33:44</td>\n",
       "    </tr>\n",
       "  </tbody>\n",
       "</table>\n",
       "<p>2 rows × 54 columns</p>\n",
       "</div>"
      ],
      "text/plain": [
       "   Unique Key        Created Date         Closed Date Agency  \\\n",
       "0    32310363 2015-12-31 23:59:45 2016-01-01 00:55:00   NYPD   \n",
       "1    32309934 2015-12-31 23:59:44 2016-01-01 01:26:00   NYPD   \n",
       "\n",
       "                       Agency Name           Complaint Type        Descriptor  \\\n",
       "0  New York City Police Department  Noise - Street/Sidewalk  Loud Music/Party   \n",
       "1  New York City Police Department         Blocked Driveway         No Access   \n",
       "\n",
       "     Location Type  Incident Zip     Incident Address  ...  \\\n",
       "0  Street/Sidewalk       10034.0  71 VERMILYEA AVENUE  ...   \n",
       "1  Street/Sidewalk       11105.0      27-07 23 AVENUE  ...   \n",
       "\n",
       "  Bridge Highway Direction Road Ramp Bridge Highway Segment Garage Lot Name  \\\n",
       "0                      NaN       NaN                    NaN             NaN   \n",
       "1                      NaN       NaN                    NaN             NaN   \n",
       "\n",
       "  Ferry Direction Ferry Terminal Name   Latitude  Longitude  \\\n",
       "0             NaN                 NaN  40.865682 -73.923501   \n",
       "1             NaN                 NaN  40.775945 -73.915094   \n",
       "\n",
       "                                   Location Request_Closing_Time  \n",
       "0   (40.86568153633767, -73.92350095571744)    -1 days +23:04:45  \n",
       "1  (40.775945312321085, -73.91509393898605)    -1 days +22:33:44  \n",
       "\n",
       "[2 rows x 54 columns]"
      ]
     },
     "execution_count": 13,
     "metadata": {},
     "output_type": "execute_result"
    }
   ],
   "source": [
    "df.head(2) # New column in now added to the dataframe"
   ]
  },
  {
   "cell_type": "code",
   "execution_count": 14,
   "id": "a335a0b9",
   "metadata": {},
   "outputs": [],
   "source": [
    "# Copy df into new dataframe for further permanent changes:\n",
    "df1=df.copy()"
   ]
  },
  {
   "cell_type": "code",
   "execution_count": 15,
   "id": "eb32e46a",
   "metadata": {},
   "outputs": [],
   "source": [
    "# drop duplicates:\n",
    "df1.drop_duplicates(inplace=True)"
   ]
  },
  {
   "cell_type": "code",
   "execution_count": 16,
   "id": "3ba33b6c",
   "metadata": {
    "scrolled": true
   },
   "outputs": [],
   "source": [
    "# drop empty and unspecified field columns from the dataframe:\n",
    "df1.drop(columns=['Park Facility Name','School Name','School Number','School Region','School Code','School Phone Number','School Address','School City','School State','School Zip','School Not Found','School or Citywide Complaint','Vehicle Type','Taxi Company Borough','Taxi Pick Up Location','Bridge Highway Name','Bridge Highway Direction','Road Ramp','Bridge Highway Segment','Garage Lot Name','Ferry Direction','Ferry Terminal Name'],inplace=True)"
   ]
  },
  {
   "cell_type": "code",
   "execution_count": 17,
   "id": "7973b3b4",
   "metadata": {},
   "outputs": [
    {
     "data": {
      "text/plain": [
       "32"
      ]
     },
     "execution_count": 17,
     "metadata": {},
     "output_type": "execute_result"
    }
   ],
   "source": [
    "# Chcek how number of columns are now present in the data frame:  we dropped 22 columns. (54-22 = 32)\n",
    "df1.columns.nunique()"
   ]
  },
  {
   "cell_type": "code",
   "execution_count": 18,
   "id": "926f42e0",
   "metadata": {},
   "outputs": [],
   "source": [
    "# Change the column position of 'Request_Closing_Time' :\n",
    "new_pos=df1.pop('Request_Closing_Time')"
   ]
  },
  {
   "cell_type": "code",
   "execution_count": 19,
   "id": "c4fc2f48",
   "metadata": {},
   "outputs": [
    {
     "data": {
      "text/html": [
       "<div>\n",
       "<style scoped>\n",
       "    .dataframe tbody tr th:only-of-type {\n",
       "        vertical-align: middle;\n",
       "    }\n",
       "\n",
       "    .dataframe tbody tr th {\n",
       "        vertical-align: top;\n",
       "    }\n",
       "\n",
       "    .dataframe thead th {\n",
       "        text-align: right;\n",
       "    }\n",
       "</style>\n",
       "<table border=\"1\" class=\"dataframe\">\n",
       "  <thead>\n",
       "    <tr style=\"text-align: right;\">\n",
       "      <th></th>\n",
       "      <th>Unique Key</th>\n",
       "      <th>Created Date</th>\n",
       "      <th>Closed Date</th>\n",
       "      <th>Request_Closing_Time</th>\n",
       "      <th>Agency</th>\n",
       "      <th>Agency Name</th>\n",
       "      <th>Complaint Type</th>\n",
       "      <th>Descriptor</th>\n",
       "      <th>Location Type</th>\n",
       "      <th>Incident Zip</th>\n",
       "      <th>...</th>\n",
       "      <th>Resolution Description</th>\n",
       "      <th>Resolution Action Updated Date</th>\n",
       "      <th>Community Board</th>\n",
       "      <th>Borough</th>\n",
       "      <th>X Coordinate (State Plane)</th>\n",
       "      <th>Y Coordinate (State Plane)</th>\n",
       "      <th>Park Borough</th>\n",
       "      <th>Latitude</th>\n",
       "      <th>Longitude</th>\n",
       "      <th>Location</th>\n",
       "    </tr>\n",
       "  </thead>\n",
       "  <tbody>\n",
       "    <tr>\n",
       "      <th>0</th>\n",
       "      <td>32310363</td>\n",
       "      <td>2015-12-31 23:59:45</td>\n",
       "      <td>2016-01-01 00:55:00</td>\n",
       "      <td>-1 days +23:04:45</td>\n",
       "      <td>NYPD</td>\n",
       "      <td>New York City Police Department</td>\n",
       "      <td>Noise - Street/Sidewalk</td>\n",
       "      <td>Loud Music/Party</td>\n",
       "      <td>Street/Sidewalk</td>\n",
       "      <td>10034.0</td>\n",
       "      <td>...</td>\n",
       "      <td>The Police Department responded and upon arriv...</td>\n",
       "      <td>01-01-16 0:55</td>\n",
       "      <td>12 MANHATTAN</td>\n",
       "      <td>MANHATTAN</td>\n",
       "      <td>1005409.0</td>\n",
       "      <td>254678.0</td>\n",
       "      <td>MANHATTAN</td>\n",
       "      <td>40.865682</td>\n",
       "      <td>-73.923501</td>\n",
       "      <td>(40.86568153633767, -73.92350095571744)</td>\n",
       "    </tr>\n",
       "    <tr>\n",
       "      <th>1</th>\n",
       "      <td>32309934</td>\n",
       "      <td>2015-12-31 23:59:44</td>\n",
       "      <td>2016-01-01 01:26:00</td>\n",
       "      <td>-1 days +22:33:44</td>\n",
       "      <td>NYPD</td>\n",
       "      <td>New York City Police Department</td>\n",
       "      <td>Blocked Driveway</td>\n",
       "      <td>No Access</td>\n",
       "      <td>Street/Sidewalk</td>\n",
       "      <td>11105.0</td>\n",
       "      <td>...</td>\n",
       "      <td>The Police Department responded to the complai...</td>\n",
       "      <td>01-01-16 1:26</td>\n",
       "      <td>01 QUEENS</td>\n",
       "      <td>QUEENS</td>\n",
       "      <td>1007766.0</td>\n",
       "      <td>221986.0</td>\n",
       "      <td>QUEENS</td>\n",
       "      <td>40.775945</td>\n",
       "      <td>-73.915094</td>\n",
       "      <td>(40.775945312321085, -73.91509393898605)</td>\n",
       "    </tr>\n",
       "    <tr>\n",
       "      <th>2</th>\n",
       "      <td>32309159</td>\n",
       "      <td>2015-12-31 23:59:29</td>\n",
       "      <td>2016-01-01 04:51:00</td>\n",
       "      <td>-1 days +19:08:29</td>\n",
       "      <td>NYPD</td>\n",
       "      <td>New York City Police Department</td>\n",
       "      <td>Blocked Driveway</td>\n",
       "      <td>No Access</td>\n",
       "      <td>Street/Sidewalk</td>\n",
       "      <td>10458.0</td>\n",
       "      <td>...</td>\n",
       "      <td>The Police Department responded and upon arriv...</td>\n",
       "      <td>01-01-16 4:51</td>\n",
       "      <td>07 BRONX</td>\n",
       "      <td>BRONX</td>\n",
       "      <td>1015081.0</td>\n",
       "      <td>256380.0</td>\n",
       "      <td>BRONX</td>\n",
       "      <td>40.870325</td>\n",
       "      <td>-73.888525</td>\n",
       "      <td>(40.870324522111424, -73.88852464418646)</td>\n",
       "    </tr>\n",
       "  </tbody>\n",
       "</table>\n",
       "<p>3 rows × 32 columns</p>\n",
       "</div>"
      ],
      "text/plain": [
       "   Unique Key        Created Date         Closed Date Request_Closing_Time  \\\n",
       "0    32310363 2015-12-31 23:59:45 2016-01-01 00:55:00    -1 days +23:04:45   \n",
       "1    32309934 2015-12-31 23:59:44 2016-01-01 01:26:00    -1 days +22:33:44   \n",
       "2    32309159 2015-12-31 23:59:29 2016-01-01 04:51:00    -1 days +19:08:29   \n",
       "\n",
       "  Agency                      Agency Name           Complaint Type  \\\n",
       "0   NYPD  New York City Police Department  Noise - Street/Sidewalk   \n",
       "1   NYPD  New York City Police Department         Blocked Driveway   \n",
       "2   NYPD  New York City Police Department         Blocked Driveway   \n",
       "\n",
       "         Descriptor    Location Type  Incident Zip  ...  \\\n",
       "0  Loud Music/Party  Street/Sidewalk       10034.0  ...   \n",
       "1         No Access  Street/Sidewalk       11105.0  ...   \n",
       "2         No Access  Street/Sidewalk       10458.0  ...   \n",
       "\n",
       "                              Resolution Description  \\\n",
       "0  The Police Department responded and upon arriv...   \n",
       "1  The Police Department responded to the complai...   \n",
       "2  The Police Department responded and upon arriv...   \n",
       "\n",
       "  Resolution Action Updated Date Community Board    Borough  \\\n",
       "0                  01-01-16 0:55    12 MANHATTAN  MANHATTAN   \n",
       "1                  01-01-16 1:26       01 QUEENS     QUEENS   \n",
       "2                  01-01-16 4:51        07 BRONX      BRONX   \n",
       "\n",
       "  X Coordinate (State Plane) Y Coordinate (State Plane) Park Borough  \\\n",
       "0                  1005409.0                   254678.0    MANHATTAN   \n",
       "1                  1007766.0                   221986.0       QUEENS   \n",
       "2                  1015081.0                   256380.0        BRONX   \n",
       "\n",
       "    Latitude  Longitude                                  Location  \n",
       "0  40.865682 -73.923501   (40.86568153633767, -73.92350095571744)  \n",
       "1  40.775945 -73.915094  (40.775945312321085, -73.91509393898605)  \n",
       "2  40.870325 -73.888525  (40.870324522111424, -73.88852464418646)  \n",
       "\n",
       "[3 rows x 32 columns]"
      ]
     },
     "execution_count": 19,
     "metadata": {},
     "output_type": "execute_result"
    }
   ],
   "source": [
    "# Place this column after closed date column:\n",
    "df1.insert(3,'Request_Closing_Time',new_pos)\n",
    "df1.head(3)"
   ]
  },
  {
   "cell_type": "code",
   "execution_count": 20,
   "id": "aaef07a4",
   "metadata": {},
   "outputs": [],
   "source": [
    "# Order the complaint types based on the average ‘Request_Closing_Time’, grouping them for different locations:\n",
    "df2=df1.groupby(['Complaint Type','Location Type']).agg({'Request_Closing_Time':'mean'}).sort_values('Request_Closing_Time',ascending=True)"
   ]
  },
  {
   "cell_type": "code",
   "execution_count": 21,
   "id": "25d949e6",
   "metadata": {},
   "outputs": [
    {
     "data": {
      "text/html": [
       "<div>\n",
       "<style scoped>\n",
       "    .dataframe tbody tr th:only-of-type {\n",
       "        vertical-align: middle;\n",
       "    }\n",
       "\n",
       "    .dataframe tbody tr th {\n",
       "        vertical-align: top;\n",
       "    }\n",
       "\n",
       "    .dataframe thead th {\n",
       "        text-align: right;\n",
       "    }\n",
       "</style>\n",
       "<table border=\"1\" class=\"dataframe\">\n",
       "  <thead>\n",
       "    <tr style=\"text-align: right;\">\n",
       "      <th></th>\n",
       "      <th></th>\n",
       "      <th>Request_Closing_Time</th>\n",
       "    </tr>\n",
       "    <tr>\n",
       "      <th>Complaint Type</th>\n",
       "      <th>Location Type</th>\n",
       "      <th></th>\n",
       "    </tr>\n",
       "  </thead>\n",
       "  <tbody>\n",
       "    <tr>\n",
       "      <th>Animal in a Park</th>\n",
       "      <th>Park</th>\n",
       "      <td>-15 days +23:09:55</td>\n",
       "    </tr>\n",
       "    <tr>\n",
       "      <th>Derelict Vehicle</th>\n",
       "      <th>Roadway Tunnel</th>\n",
       "      <td>-1 days +06:02:09</td>\n",
       "    </tr>\n",
       "    <tr>\n",
       "      <th>Graffiti</th>\n",
       "      <th>Street/Sidewalk</th>\n",
       "      <td>-1 days +11:57:44.920000</td>\n",
       "    </tr>\n",
       "    <tr>\n",
       "      <th>Derelict Vehicle</th>\n",
       "      <th>Highway</th>\n",
       "      <td>-1 days +15:48:15.461538462</td>\n",
       "    </tr>\n",
       "    <tr>\n",
       "      <th>Urinating in Public</th>\n",
       "      <th>Club/Bar/Restaurant</th>\n",
       "      <td>-1 days +16:04:48</td>\n",
       "    </tr>\n",
       "    <tr>\n",
       "      <th>...</th>\n",
       "      <th>...</th>\n",
       "      <td>...</td>\n",
       "    </tr>\n",
       "    <tr>\n",
       "      <th>Posting Advertisement</th>\n",
       "      <th>Street/Sidewalk</th>\n",
       "      <td>-1 days +22:10:51.624137932</td>\n",
       "    </tr>\n",
       "    <tr>\n",
       "      <th>Panhandling</th>\n",
       "      <th>Park/Playground</th>\n",
       "      <td>-1 days +22:46:52.833333334</td>\n",
       "    </tr>\n",
       "    <tr>\n",
       "      <th>Urinating in Public</th>\n",
       "      <th>Subway Station</th>\n",
       "      <td>-1 days +22:50:52.333333334</td>\n",
       "    </tr>\n",
       "    <tr>\n",
       "      <th rowspan=\"2\" valign=\"top\">Ferry Complaint</th>\n",
       "      <th>Ferry</th>\n",
       "      <td>NaT</td>\n",
       "    </tr>\n",
       "    <tr>\n",
       "      <th>Terminal</th>\n",
       "      <td>NaT</td>\n",
       "    </tr>\n",
       "  </tbody>\n",
       "</table>\n",
       "<p>71 rows × 1 columns</p>\n",
       "</div>"
      ],
      "text/plain": [
       "                                                 Request_Closing_Time\n",
       "Complaint Type        Location Type                                  \n",
       "Animal in a Park      Park                         -15 days +23:09:55\n",
       "Derelict Vehicle      Roadway Tunnel                -1 days +06:02:09\n",
       "Graffiti              Street/Sidewalk        -1 days +11:57:44.920000\n",
       "Derelict Vehicle      Highway             -1 days +15:48:15.461538462\n",
       "Urinating in Public   Club/Bar/Restaurant           -1 days +16:04:48\n",
       "...                                                               ...\n",
       "Posting Advertisement Street/Sidewalk     -1 days +22:10:51.624137932\n",
       "Panhandling           Park/Playground     -1 days +22:46:52.833333334\n",
       "Urinating in Public   Subway Station      -1 days +22:50:52.333333334\n",
       "Ferry Complaint       Ferry                                       NaT\n",
       "                      Terminal                                    NaT\n",
       "\n",
       "[71 rows x 1 columns]"
      ]
     },
     "execution_count": 21,
     "metadata": {},
     "output_type": "execute_result"
    }
   ],
   "source": [
    "df2"
   ]
  },
  {
   "cell_type": "code",
   "execution_count": 22,
   "id": "4fffda28",
   "metadata": {},
   "outputs": [],
   "source": [
    "# Provide major insights/patterns that you can offer in a visual format (graphs or tables)\n",
    "# At least 4 major conclusions that you can come up with after generic data mining."
   ]
  },
  {
   "cell_type": "markdown",
   "id": "8beb8030",
   "metadata": {},
   "source": [
    "## Plot-1: \n",
    "- A bar plot between complaint types & no. of times complaint registered with \"linear\" scale:"
   ]
  },
  {
   "cell_type": "code",
   "execution_count": 23,
   "id": "ef794666",
   "metadata": {},
   "outputs": [
    {
     "data": {
      "text/plain": [
       "Blocked Driveway             77044\n",
       "Illegal Parking              75361\n",
       "Noise - Street/Sidewalk      48612\n",
       "Noise - Commercial           35577\n",
       "Derelict Vehicle             17718\n",
       "Noise - Vehicle              17083\n",
       "Animal Abuse                  7778\n",
       "Traffic                       4498\n",
       "Homeless Encampment           4416\n",
       "Noise - Park                  4042\n",
       "Vending                       3802\n",
       "Drinking                      1280\n",
       "Noise - House of Worship       931\n",
       "Posting Advertisement          650\n",
       "Urinating in Public            592\n",
       "Bike/Roller/Skate Chronic      427\n",
       "Panhandling                    307\n",
       "Disorderly Youth               286\n",
       "Illegal Fireworks              168\n",
       "Graffiti                       113\n",
       "Agency Issues                    6\n",
       "Squeegee                         4\n",
       "Ferry Complaint                  2\n",
       "Animal in a Park                 1\n",
       "Name: Complaint Type, dtype: int64"
      ]
     },
     "execution_count": 23,
     "metadata": {},
     "output_type": "execute_result"
    }
   ],
   "source": [
    "no_of_times_complaint_registered=df1['Complaint Type'].value_counts()\n",
    "no_of_times_complaint_registered"
   ]
  },
  {
   "cell_type": "code",
   "execution_count": 69,
   "id": "d932c5cf",
   "metadata": {},
   "outputs": [
    {
     "data": {
      "text/html": [
       "<div>\n",
       "<style scoped>\n",
       "    .dataframe tbody tr th:only-of-type {\n",
       "        vertical-align: middle;\n",
       "    }\n",
       "\n",
       "    .dataframe tbody tr th {\n",
       "        vertical-align: top;\n",
       "    }\n",
       "\n",
       "    .dataframe thead th {\n",
       "        text-align: right;\n",
       "    }\n",
       "</style>\n",
       "<table border=\"1\" class=\"dataframe\">\n",
       "  <thead>\n",
       "    <tr style=\"text-align: right;\">\n",
       "      <th></th>\n",
       "      <th>Complaint Type</th>\n",
       "    </tr>\n",
       "  </thead>\n",
       "  <tbody>\n",
       "    <tr>\n",
       "      <th>Blocked Driveway</th>\n",
       "      <td>77044</td>\n",
       "    </tr>\n",
       "    <tr>\n",
       "      <th>Illegal Parking</th>\n",
       "      <td>75361</td>\n",
       "    </tr>\n",
       "    <tr>\n",
       "      <th>Noise - Street/Sidewalk</th>\n",
       "      <td>48612</td>\n",
       "    </tr>\n",
       "    <tr>\n",
       "      <th>Noise - Commercial</th>\n",
       "      <td>35577</td>\n",
       "    </tr>\n",
       "    <tr>\n",
       "      <th>Derelict Vehicle</th>\n",
       "      <td>17718</td>\n",
       "    </tr>\n",
       "    <tr>\n",
       "      <th>Noise - Vehicle</th>\n",
       "      <td>17083</td>\n",
       "    </tr>\n",
       "    <tr>\n",
       "      <th>Animal Abuse</th>\n",
       "      <td>7778</td>\n",
       "    </tr>\n",
       "    <tr>\n",
       "      <th>Traffic</th>\n",
       "      <td>4498</td>\n",
       "    </tr>\n",
       "    <tr>\n",
       "      <th>Homeless Encampment</th>\n",
       "      <td>4416</td>\n",
       "    </tr>\n",
       "    <tr>\n",
       "      <th>Noise - Park</th>\n",
       "      <td>4042</td>\n",
       "    </tr>\n",
       "    <tr>\n",
       "      <th>Vending</th>\n",
       "      <td>3802</td>\n",
       "    </tr>\n",
       "    <tr>\n",
       "      <th>Drinking</th>\n",
       "      <td>1280</td>\n",
       "    </tr>\n",
       "    <tr>\n",
       "      <th>Noise - House of Worship</th>\n",
       "      <td>931</td>\n",
       "    </tr>\n",
       "    <tr>\n",
       "      <th>Posting Advertisement</th>\n",
       "      <td>650</td>\n",
       "    </tr>\n",
       "    <tr>\n",
       "      <th>Urinating in Public</th>\n",
       "      <td>592</td>\n",
       "    </tr>\n",
       "    <tr>\n",
       "      <th>Bike/Roller/Skate Chronic</th>\n",
       "      <td>427</td>\n",
       "    </tr>\n",
       "    <tr>\n",
       "      <th>Panhandling</th>\n",
       "      <td>307</td>\n",
       "    </tr>\n",
       "    <tr>\n",
       "      <th>Disorderly Youth</th>\n",
       "      <td>286</td>\n",
       "    </tr>\n",
       "    <tr>\n",
       "      <th>Illegal Fireworks</th>\n",
       "      <td>168</td>\n",
       "    </tr>\n",
       "    <tr>\n",
       "      <th>Graffiti</th>\n",
       "      <td>113</td>\n",
       "    </tr>\n",
       "    <tr>\n",
       "      <th>Agency Issues</th>\n",
       "      <td>6</td>\n",
       "    </tr>\n",
       "    <tr>\n",
       "      <th>Squeegee</th>\n",
       "      <td>4</td>\n",
       "    </tr>\n",
       "    <tr>\n",
       "      <th>Ferry Complaint</th>\n",
       "      <td>2</td>\n",
       "    </tr>\n",
       "    <tr>\n",
       "      <th>Animal in a Park</th>\n",
       "      <td>1</td>\n",
       "    </tr>\n",
       "  </tbody>\n",
       "</table>\n",
       "</div>"
      ],
      "text/plain": [
       "                           Complaint Type\n",
       "Blocked Driveway                    77044\n",
       "Illegal Parking                     75361\n",
       "Noise - Street/Sidewalk             48612\n",
       "Noise - Commercial                  35577\n",
       "Derelict Vehicle                    17718\n",
       "Noise - Vehicle                     17083\n",
       "Animal Abuse                         7778\n",
       "Traffic                              4498\n",
       "Homeless Encampment                  4416\n",
       "Noise - Park                         4042\n",
       "Vending                              3802\n",
       "Drinking                             1280\n",
       "Noise - House of Worship              931\n",
       "Posting Advertisement                 650\n",
       "Urinating in Public                   592\n",
       "Bike/Roller/Skate Chronic             427\n",
       "Panhandling                           307\n",
       "Disorderly Youth                      286\n",
       "Illegal Fireworks                     168\n",
       "Graffiti                              113\n",
       "Agency Issues                           6\n",
       "Squeegee                                4\n",
       "Ferry Complaint                         2\n",
       "Animal in a Park                        1"
      ]
     },
     "execution_count": 69,
     "metadata": {},
     "output_type": "execute_result"
    }
   ],
   "source": [
    "df_no_time=no_of_times_complaint_registered.to_frame()\n",
    "df_no_time"
   ]
  },
  {
   "cell_type": "code",
   "execution_count": 74,
   "id": "64598601",
   "metadata": {},
   "outputs": [
    {
     "data": {
      "text/plain": [
       "Index(['Blocked Driveway', 'Illegal Parking', 'Noise - Street/Sidewalk',\n",
       "       'Noise - Commercial', 'Derelict Vehicle', 'Noise - Vehicle',\n",
       "       'Animal Abuse', 'Traffic', 'Homeless Encampment', 'Noise - Park',\n",
       "       'Vending', 'Drinking', 'Noise - House of Worship',\n",
       "       'Posting Advertisement', 'Urinating in Public',\n",
       "       'Bike/Roller/Skate Chronic', 'Panhandling', 'Disorderly Youth',\n",
       "       'Illegal Fireworks', 'Graffiti', 'Agency Issues', 'Squeegee',\n",
       "       'Ferry Complaint', 'Animal in a Park'],\n",
       "      dtype='object')"
      ]
     },
     "execution_count": 74,
     "metadata": {},
     "output_type": "execute_result"
    }
   ],
   "source": [
    "df_no_time.index"
   ]
  },
  {
   "cell_type": "code",
   "execution_count": 73,
   "id": "1c95cdf2",
   "metadata": {},
   "outputs": [
    {
     "data": {
      "image/png": "[encoded data removed]",
      "text/plain": [
       "<Figure size 1000x500 with 1 Axes>"
      ]
     },
     "metadata": {},
     "output_type": "display_data"
    }
   ],
   "source": [
    "plt.subplots(figsize=(10,5))\n",
    "sns.barplot(x = df_no_time['Complaint Type'] , y = df_no_time.index, data=df1)\n",
    "font1={'family':'Cursive', 'color':\"r\",'size':15}\n",
    "font2={'family':'serif','color':\"b\",'size':15}\n",
    "\n",
    "plt.xlabel('number of times complaint registered',fontdict=font1)\n",
    "plt.ylabel('Complaint_types',fontdict=font1)\n",
    "plt.title('Complaint types Vs no. of times complaint registered',fontdict=font2)\n",
    "plt.show()"
   ]
  },
  {
   "cell_type": "markdown",
   "id": "3f9124f2",
   "metadata": {},
   "source": [
    "### Conclusions from plot-1:\n",
    "- In the above plot we have the number of times complaint registered for each complaint_type.\n",
    "- But beacuse of the linear scale we are not able to see clearly any bar for the complaint type below \"Posting-Advertisement\" on y-axis.\n",
    "- So we need to go for \"logarithmic\" scale on x-axis to see those bottom bars clearly and readable as shown below:"
   ]
  },
  {
   "cell_type": "markdown",
   "id": "6dc01068",
   "metadata": {},
   "source": [
    "## Plot-2: \n",
    "- A barplot between complaint types & no. of times complaint registered with \"log\" scale :"
   ]
  },
  {
   "cell_type": "code",
   "execution_count": 75,
   "id": "8efd79d9",
   "metadata": {},
   "outputs": [
    {
     "data": {
      "image/png": "[encoded data removed]",
      "text/plain": [
       "<Figure size 640x480 with 1 Axes>"
      ]
     },
     "metadata": {},
     "output_type": "display_data"
    }
   ],
   "source": [
    "a=sns.barplot(x = df_no_time['Complaint Type'], y = df_no_time.index, data=df1)\n",
    "a.set_xscale('log')\n",
    "\n",
    "font1={'family':'Cursive', 'color':\"r\",'size':15}\n",
    "font2={'family':'serif','color':\"b\",'size':20}\n",
    "\n",
    "plt.xlabel('number of times complaint registered',fontdict=font1)\n",
    "plt.ylabel('Complaint Types', fontdict=font1)\n",
    "plt.title('Complaint types vs no. of times complaint registered',fontsize=15, fontdict=font2)\n",
    "plt.show()"
   ]
  },
  {
   "cell_type": "markdown",
   "id": "3cb50006",
   "metadata": {},
   "source": [
    "### Conclusions from plot-2:\n",
    "- Now we can properly read the entire data and their corresponding bars too. \n",
    "- The bars from \"Posting-Advertisement\" to \"Animals in a Park\" are also clearly visible as compared to plot-1\n",
    "- Complaints for Animal in a Park registered for lowest number of times while complaints for Blocked Driveway are highest."
   ]
  },
  {
   "cell_type": "markdown",
   "id": "6e856e36",
   "metadata": {},
   "source": [
    "## Plot-3 : \n",
    "- A pie plot for those complaint_types which are registered for more than 10000 times:"
   ]
  },
  {
   "cell_type": "code",
   "execution_count": 79,
   "id": "38c37751",
   "metadata": {},
   "outputs": [
    {
     "data": {
      "text/html": [
       "<div>\n",
       "<style scoped>\n",
       "    .dataframe tbody tr th:only-of-type {\n",
       "        vertical-align: middle;\n",
       "    }\n",
       "\n",
       "    .dataframe tbody tr th {\n",
       "        vertical-align: top;\n",
       "    }\n",
       "\n",
       "    .dataframe thead th {\n",
       "        text-align: right;\n",
       "    }\n",
       "</style>\n",
       "<table border=\"1\" class=\"dataframe\">\n",
       "  <thead>\n",
       "    <tr style=\"text-align: right;\">\n",
       "      <th></th>\n",
       "      <th>Complaint Type</th>\n",
       "    </tr>\n",
       "  </thead>\n",
       "  <tbody>\n",
       "    <tr>\n",
       "      <th>Blocked Driveway</th>\n",
       "      <td>77044</td>\n",
       "    </tr>\n",
       "    <tr>\n",
       "      <th>Illegal Parking</th>\n",
       "      <td>75361</td>\n",
       "    </tr>\n",
       "    <tr>\n",
       "      <th>Noise - Street/Sidewalk</th>\n",
       "      <td>48612</td>\n",
       "    </tr>\n",
       "    <tr>\n",
       "      <th>Noise - Commercial</th>\n",
       "      <td>35577</td>\n",
       "    </tr>\n",
       "    <tr>\n",
       "      <th>Derelict Vehicle</th>\n",
       "      <td>17718</td>\n",
       "    </tr>\n",
       "    <tr>\n",
       "      <th>Noise - Vehicle</th>\n",
       "      <td>17083</td>\n",
       "    </tr>\n",
       "    <tr>\n",
       "      <th>Animal Abuse</th>\n",
       "      <td>7778</td>\n",
       "    </tr>\n",
       "    <tr>\n",
       "      <th>Traffic</th>\n",
       "      <td>4498</td>\n",
       "    </tr>\n",
       "    <tr>\n",
       "      <th>Homeless Encampment</th>\n",
       "      <td>4416</td>\n",
       "    </tr>\n",
       "    <tr>\n",
       "      <th>Noise - Park</th>\n",
       "      <td>4042</td>\n",
       "    </tr>\n",
       "  </tbody>\n",
       "</table>\n",
       "</div>"
      ],
      "text/plain": [
       "                         Complaint Type\n",
       "Blocked Driveway                  77044\n",
       "Illegal Parking                   75361\n",
       "Noise - Street/Sidewalk           48612\n",
       "Noise - Commercial                35577\n",
       "Derelict Vehicle                  17718\n",
       "Noise - Vehicle                   17083\n",
       "Animal Abuse                       7778\n",
       "Traffic                            4498\n",
       "Homeless Encampment                4416\n",
       "Noise - Park                       4042"
      ]
     },
     "execution_count": 79,
     "metadata": {},
     "output_type": "execute_result"
    }
   ],
   "source": [
    "df_no_time.head(10)"
   ]
  },
  {
   "cell_type": "code",
   "execution_count": 58,
   "id": "1c37f414",
   "metadata": {},
   "outputs": [
    {
     "data": {
      "text/html": [
       "<div>\n",
       "<style scoped>\n",
       "    .dataframe tbody tr th:only-of-type {\n",
       "        vertical-align: middle;\n",
       "    }\n",
       "\n",
       "    .dataframe tbody tr th {\n",
       "        vertical-align: top;\n",
       "    }\n",
       "\n",
       "    .dataframe thead th {\n",
       "        text-align: right;\n",
       "    }\n",
       "</style>\n",
       "<table border=\"1\" class=\"dataframe\">\n",
       "  <thead>\n",
       "    <tr style=\"text-align: right;\">\n",
       "      <th></th>\n",
       "      <th>Complaint Type</th>\n",
       "    </tr>\n",
       "  </thead>\n",
       "  <tbody>\n",
       "    <tr>\n",
       "      <th>Blocked Driveway</th>\n",
       "      <td>77044</td>\n",
       "    </tr>\n",
       "    <tr>\n",
       "      <th>Illegal Parking</th>\n",
       "      <td>75361</td>\n",
       "    </tr>\n",
       "    <tr>\n",
       "      <th>Noise - Street/Sidewalk</th>\n",
       "      <td>48612</td>\n",
       "    </tr>\n",
       "    <tr>\n",
       "      <th>Noise - Commercial</th>\n",
       "      <td>35577</td>\n",
       "    </tr>\n",
       "    <tr>\n",
       "      <th>Derelict Vehicle</th>\n",
       "      <td>17718</td>\n",
       "    </tr>\n",
       "    <tr>\n",
       "      <th>Noise - Vehicle</th>\n",
       "      <td>17083</td>\n",
       "    </tr>\n",
       "  </tbody>\n",
       "</table>\n",
       "</div>"
      ],
      "text/plain": [
       "                         Complaint Type\n",
       "Blocked Driveway                  77044\n",
       "Illegal Parking                   75361\n",
       "Noise - Street/Sidewalk           48612\n",
       "Noise - Commercial                35577\n",
       "Derelict Vehicle                  17718\n",
       "Noise - Vehicle                   17083"
      ]
     },
     "execution_count": 58,
     "metadata": {},
     "output_type": "execute_result"
    }
   ],
   "source": [
    "new_df=df_no_time[df_no_time['Complaint Type']>10000]\n",
    "new_df"
   ]
  },
  {
   "cell_type": "code",
   "execution_count": 81,
   "id": "2bc81665",
   "metadata": {},
   "outputs": [
    {
     "data": {
      "image/png": "[encoded data removed]",
      "text/plain": [
       "<Figure size 640x480 with 1 Axes>"
      ]
     },
     "metadata": {},
     "output_type": "display_data"
    }
   ],
   "source": [
    "plt.pie(new_df['Complaint Type'],labels=new_df.index,autopct='%.2f%%',radius=1.2,explode=[0,0,0,0,0,0.1]);"
   ]
  },
  {
   "cell_type": "markdown",
   "id": "e57a2f98",
   "metadata": {},
   "source": [
    "### Conclusions from plot-3:\n",
    "- This plot help us to know the percentage distribution of : no of times complaint registered for each complaint type.\n",
    "- Blocked Driveway complaint covers the maximum portion of the pie plot which signifies that this complaint registered for highest number of times. Then illegal parking then noise-street/sidewalk and so on.\n",
    "- All these complaints are registered more than 100000 times."
   ]
  },
  {
   "cell_type": "markdown",
   "id": "0eb1cb43",
   "metadata": {},
   "source": [
    "## Plot-4:\n",
    "- A countplot for top 5 cities where maximum complaints are registered"
   ]
  },
  {
   "cell_type": "code",
   "execution_count": 116,
   "id": "1ef82454",
   "metadata": {},
   "outputs": [
    {
     "data": {
      "text/html": [
       "<div>\n",
       "<style scoped>\n",
       "    .dataframe tbody tr th:only-of-type {\n",
       "        vertical-align: middle;\n",
       "    }\n",
       "\n",
       "    .dataframe tbody tr th {\n",
       "        vertical-align: top;\n",
       "    }\n",
       "\n",
       "    .dataframe thead th {\n",
       "        text-align: right;\n",
       "    }\n",
       "</style>\n",
       "<table border=\"1\" class=\"dataframe\">\n",
       "  <thead>\n",
       "    <tr style=\"text-align: right;\">\n",
       "      <th></th>\n",
       "      <th>Complaint Type</th>\n",
       "    </tr>\n",
       "    <tr>\n",
       "      <th>City</th>\n",
       "      <th></th>\n",
       "    </tr>\n",
       "  </thead>\n",
       "  <tbody>\n",
       "    <tr>\n",
       "      <th>BROOKLYN</th>\n",
       "      <td>98307</td>\n",
       "    </tr>\n",
       "    <tr>\n",
       "      <th>NEW YORK</th>\n",
       "      <td>65994</td>\n",
       "    </tr>\n",
       "    <tr>\n",
       "      <th>BRONX</th>\n",
       "      <td>40702</td>\n",
       "    </tr>\n",
       "    <tr>\n",
       "      <th>STATEN ISLAND</th>\n",
       "      <td>12343</td>\n",
       "    </tr>\n",
       "    <tr>\n",
       "      <th>JAMAICA</th>\n",
       "      <td>7296</td>\n",
       "    </tr>\n",
       "  </tbody>\n",
       "</table>\n",
       "</div>"
      ],
      "text/plain": [
       "               Complaint Type\n",
       "City                         \n",
       "BROOKLYN                98307\n",
       "NEW YORK                65994\n",
       "BRONX                   40702\n",
       "STATEN ISLAND           12343\n",
       "JAMAICA                  7296"
      ]
     },
     "execution_count": 116,
     "metadata": {},
     "output_type": "execute_result"
    }
   ],
   "source": [
    "top_5_cities=df1.groupby('City').agg({'Complaint Type':'count'}).sort_values('Complaint Type',ascending=False).head()\n",
    "top_5_cities"
   ]
  },
  {
   "cell_type": "code",
   "execution_count": 113,
   "id": "c9050c59",
   "metadata": {},
   "outputs": [],
   "source": [
    "# df1.groupby('City')['Complaint Type'].value_counts().head(20) <--- This code is just for verification of above data:\n",
    "\n",
    "# It generates count of each complaint type for each city. \n",
    "# When we sum up all those counts (of each complaint type) for every city, we will get above data."
   ]
  },
  {
   "cell_type": "code",
   "execution_count": 121,
   "id": "40e32db2",
   "metadata": {},
   "outputs": [
    {
     "data": {
      "image/png": "[encoded data removed]",
      "text/plain": [
       "<Figure size 640x480 with 1 Axes>"
      ]
     },
     "metadata": {},
     "output_type": "display_data"
    }
   ],
   "source": [
    "sns.barplot(x=top_5_cities.index, y = top_5_cities['Complaint Type'] , data=df1);"
   ]
  },
  {
   "cell_type": "code",
   "execution_count": 124,
   "id": "c2dfa39c",
   "metadata": {},
   "outputs": [
    {
     "data": {
      "image/png": "[encoded data removed]",
      "text/plain": [
       "<Figure size 640x480 with 1 Axes>"
      ]
     },
     "metadata": {},
     "output_type": "display_data"
    }
   ],
   "source": [
    "plt.pie(top_5_cities['Complaint Type'], labels = top_5_cities.index,autopct='%.2f%%',radius=1.2,explode=[0.1,0,0,0,0]);"
   ]
  },
  {
   "cell_type": "code",
   "execution_count": null,
   "id": "6f7f38e4",
   "metadata": {},
   "outputs": [],
   "source": []
  }
 ],
 "metadata": {
  "kernelspec": {
   "display_name": "Python 3 (ipykernel)",
   "language": "python",
   "name": "python3"
  },
  "language_info": {
   "codemirror_mode": {
    "name": "ipython",
    "version": 3
   },
   "file_extension": ".py",
   "mimetype": "text/x-python",
   "name": "python",
   "nbconvert_exporter": "python",
   "pygments_lexer": "ipython3",
   "version": "3.10.9"
  }
 },
 "nbformat": 4,
 "nbformat_minor": 5
}
